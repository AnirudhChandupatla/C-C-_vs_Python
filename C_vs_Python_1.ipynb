{
 "cells": [
  {
   "cell_type": "code",
   "execution_count": 1,
   "metadata": {},
   "outputs": [
    {
     "name": "stdout",
     "output_type": "stream",
     "text": [
      "Start\n",
      "Number of generated k-mers: 67108864\n",
      "Finish!\n",
      "CPU times: user 1min 3s, sys: 7.62 ms, total: 1min 3s\n",
      "Wall time: 1min 3s\n"
     ]
    }
   ],
   "source": [
    "%%time\n",
    "\n",
    "#source: https://towardsdatascience.com/how-fast-is-c-compared-to-python-978f18f474c7\n",
    "\n",
    "def convert(c):\n",
    "    if (c == 'A'): return 'C'\n",
    "    if (c == 'C'): return 'G'\n",
    "    if (c == 'G'): return 'T'\n",
    "    if (c == 'T'): return 'A'\n",
    "    \n",
    "print(\"Start\")\n",
    "\n",
    "opt = \"ACGT\"\n",
    "s = \"\"\n",
    "s_last = \"\"\n",
    "len_str = 13\n",
    "\n",
    "for i in range(len_str):\n",
    "    s += opt[0]\n",
    "\n",
    "for i in range(len_str):\n",
    "    s_last += opt[-1]\n",
    "\n",
    "pos = 0\n",
    "counter = 1\n",
    "while (s != s_last):\n",
    "    counter += 1\n",
    "    # You can uncomment the next line to see all k-mers.\n",
    "    # print(s)\n",
    "    change_next = True\n",
    "    for i in range(len_str):\n",
    "        if (change_next):\n",
    "            if (s[i] == opt[-1]):\n",
    "                s = s[:i] + convert(s[i]) + s[i+1:]\n",
    "                change_next = True\n",
    "            else:\n",
    "                s = s[:i] + convert(s[i]) + s[i+1:]\n",
    "                break\n",
    "\n",
    "# You can uncomment the next line to see all k-mers.\n",
    "# print(s)\n",
    "print(\"Number of generated k-mers: {}\".format(counter))\n",
    "print(\"Finish!\")"
   ]
  },
  {
   "cell_type": "code",
   "execution_count": 2,
   "metadata": {},
   "outputs": [],
   "source": [
    "# pip3 install cython wurlitzer\n",
    "%load_ext Cython\n",
    "%load_ext wurlitzer"
   ]
  },
  {
   "cell_type": "code",
   "execution_count": 5,
   "metadata": {},
   "outputs": [],
   "source": [
    "%%cython\n",
    "\n",
    "'''\n",
    "slightly improved code,\n",
    "using dictionary instead of a function\n",
    "removed two unnecessary loops , an unnecessary condition\n",
    "declared variable types beforehanded and compiled it like C/C++\n",
    "'''\n",
    "\n",
    "from libc.stdio cimport printf\n",
    "\n",
    "def do():\n",
    "    cdef int counter = 1\n",
    "    cdef int len_str = 13\n",
    "    cdef str opt = \"ACGT\"\n",
    "    cdef str s = opt[0]*len_str\n",
    "    cdef str s_last = opt[-1]*len_str\n",
    "    cdef int i\n",
    "    cdef dict convert = {\n",
    "                    'A':'C',\n",
    "                    'C':'G',\n",
    "                    'G':'T',\n",
    "                    'T':'A'}\n",
    "    \n",
    "    printf(\"Start\")\n",
    "    \n",
    "    while (s != s_last):\n",
    "        counter += 1\n",
    "        for i in range(len_str):\n",
    "            if (s[i] == opt[-1]): \n",
    "                s = s[:i] + convert[s[i]] + s[i+1:]\n",
    "            else:\n",
    "                s = s[:i] + convert[s[i]] + s[i+1:]\n",
    "                break\n",
    "                \n",
    "    printf(\"\\nNumber of generated k-mers:%d\",counter)\n",
    "    printf(\"\\nFinish!\")"
   ]
  },
  {
   "cell_type": "code",
   "execution_count": 6,
   "metadata": {},
   "outputs": [
    {
     "name": "stdout",
     "output_type": "stream",
     "text": [
      "CPU times: user 10.1 s, sys: 24.1 ms, total: 10.1 s\n",
      "Wall time: 10.1 s\n",
      "Start\n",
      "Number of generated k-mers:67108864\n",
      "Finish!"
     ]
    }
   ],
   "source": [
    "%%time\n",
    "do()"
   ]
  },
  {
   "cell_type": "markdown",
   "metadata": {},
   "source": [
    "***Pure Python code took 1 min 3 seconds i.e 63 seconds, while Cythonized code took 10.1 seconds only that is 6X speed up,***\n",
    "\n",
    "***so Python can be as fast as C/C++***"
   ]
  }
 ],
 "metadata": {
  "kernelspec": {
   "display_name": "Python 3",
   "language": "python",
   "name": "python3"
  },
  "language_info": {
   "codemirror_mode": {
    "name": "ipython",
    "version": 3
   },
   "file_extension": ".py",
   "mimetype": "text/x-python",
   "name": "python",
   "nbconvert_exporter": "python",
   "pygments_lexer": "ipython3",
   "version": "3.8.5"
  }
 },
 "nbformat": 4,
 "nbformat_minor": 4
}
